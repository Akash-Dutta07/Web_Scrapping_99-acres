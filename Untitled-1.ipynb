{
 "cells": [
  {
   "cell_type": "code",
   "execution_count": 37,
   "id": "a7d745c5",
   "metadata": {},
   "outputs": [],
   "source": [
    "import time\n",
    "from selenium import webdriver\n",
    "from selenium.webdriver.common.by import By\n",
    "from selenium.webdriver.common.keys import Keys\n",
    "from selenium.webdriver.support.ui import WebDriverWait\n",
    "from selenium.webdriver.chrome.options import Options\n",
    "from selenium.webdriver.support import expected_conditions as EC"
   ]
  },
  {
   "cell_type": "code",
   "execution_count": 38,
   "id": "b027eed6",
   "metadata": {},
   "outputs": [],
   "source": [
    "# ----- SCRAPING THE DATA -----\n",
    "\n",
    "def wait_for_page_to_load(driver, wait):\n",
    "\ttitle = driver.title\n",
    "\ttry:\n",
    "\t\twait.until(\n",
    "\t\t\tlambda d: d.execute_script(\"return document.readyState\") == \"complete\"\n",
    "\t\t)\n",
    "\texcept:\n",
    "\t\tprint(f\"The webpage \\\"{title}\\\" did not get fully laoded.\\n\")\n",
    "\telse:\n",
    "\t\tprint(f\"The webpage \\\"{title}\\\" did get fully laoded.\\n\")"
   ]
  },
  {
   "cell_type": "code",
   "execution_count": 39,
   "id": "2beac101",
   "metadata": {},
   "outputs": [],
   "source": [
    "# options\n",
    "chrome_options = Options()\n",
    "chrome_options.add_argument(\"--disable-http2\")\n",
    "chrome_options.add_argument(\"--incognito\")\n",
    "chrome_options.add_argument(\"--disable-blink-features=AutomationControlled\")\n",
    "chrome_options.add_argument(\"--ignore-certificate-errors\")\n",
    "chrome_options.add_argument(\"--enable-features=NetworkServiceInProcess\")\n",
    "chrome_options.add_argument(\"--disable-features=NetworkService\")\n",
    "chrome_options.add_argument(\n",
    "    \"user-agent=Mozilla/5.0 (Windows NT 10.0; Win64; x64) AppleWebKit/537.36 (KHTML, like Gecko) Chrome/93.0.4577.63 Safari/537.36\"\n",
    ")\n",
    "\n",
    "driver = webdriver.Chrome(options=chrome_options)\n",
    "driver.maximize_window()\n",
    "\n",
    "# explicit wait\n",
    "wait = WebDriverWait(driver, 5)\n",
    "\n",
    "# accessing the target webpage\n",
    "url = \"https://www.99acres.com/\"\n",
    "driver.get(url)"
   ]
  },
  {
   "cell_type": "code",
   "execution_count": 40,
   "id": "ce018309",
   "metadata": {},
   "outputs": [
    {
     "name": "stdout",
     "output_type": "stream",
     "text": [
      "The webpage \"Property in Kolkata - Real Estate in Kolkata\" did get fully laoded.\n",
      "\n"
     ]
    }
   ],
   "source": [
    "# identify and enter text into search bar\n",
    "try:\n",
    "\tsearch_bar = wait.until(\n",
    "\t\tEC.presence_of_element_located((By.XPATH, '//*[@id=\"keyword2\"]'))\n",
    "\t)\n",
    "except:\n",
    "\tprint(\"Timeout while locating Search Bar.\\n\")\n",
    "else:\n",
    "\tsearch_bar.send_keys(\"Kolkata\")\n",
    "\ttime.sleep(5)\n",
    " \n",
    "# selecting valid option from list\n",
    "try:\n",
    "\tvalid_option = wait.until(\n",
    "\t\tEC.element_to_be_clickable((By.XPATH, '//*[@id=\"0\"]'))\n",
    "\t)\n",
    "except:\n",
    "\tprint(\"Timeout while locating valid search option.\\n\")\n",
    "else:\n",
    "\tvalid_option.click()\n",
    "\ttime.sleep(2)\n",
    "\n",
    "# click on Search button\n",
    "try:\n",
    "\tsearch_button = wait.until(\n",
    "\t\tEC.element_to_be_clickable((By.XPATH, '//*[@id=\"searchform_search_btn\"]'))\n",
    "\t)\n",
    "except:\n",
    "\tprint(\"Timeout while clicking on \\\"Search\\\" button.\\n\")\n",
    "else:\n",
    "\tsearch_button.click()\n",
    "\twait_for_page_to_load(driver, wait)"
   ]
  }
 ],
 "metadata": {
  "kernelspec": {
   "display_name": "99-acres",
   "language": "python",
   "name": "python3"
  },
  "language_info": {
   "codemirror_mode": {
    "name": "ipython",
    "version": 3
   },
   "file_extension": ".py",
   "mimetype": "text/x-python",
   "name": "python",
   "nbconvert_exporter": "python",
   "pygments_lexer": "ipython3",
   "version": "3.12.11"
  }
 },
 "nbformat": 4,
 "nbformat_minor": 5
}
