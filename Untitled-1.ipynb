{
 "cells": [
  {
   "cell_type": "code",
   "execution_count": 4,
   "id": "a7d745c5",
   "metadata": {},
   "outputs": [],
   "source": [
    "import time\n",
    "import numpy as np\n",
    "import pandas as pd\n",
    "from selenium import webdriver\n",
    "from selenium.webdriver.common.by import By\n",
    "from selenium.webdriver.common.keys import Keys\n",
    "from selenium.webdriver.support.ui import WebDriverWait\n",
    "from selenium.webdriver.chrome.options import Options\n",
    "from selenium.webdriver.support import expected_conditions as EC\n",
    "from selenium.webdriver.common.action_chains import ActionChains"
   ]
  },
  {
   "cell_type": "code",
   "execution_count": 5,
   "id": "b027eed6",
   "metadata": {},
   "outputs": [],
   "source": [
    "# ----- SCRAPING THE DATA -----\n",
    "\n",
    "def wait_for_page_to_load(driver, wait):\n",
    "\ttitle = driver.title\n",
    "\ttry:\n",
    "\t\twait.until(\n",
    "\t\t\tlambda d: d.execute_script(\"return document.readyState\") == \"complete\"\n",
    "\t\t)\n",
    "\texcept:\n",
    "\t\tprint(f\"The webpage \\\"{title}\\\" did not get fully laoded.\\n\")\n",
    "\telse:\n",
    "\t\tprint(f\"The webpage \\\"{title}\\\" did get fully laoded.\\n\")"
   ]
  },
  {
   "cell_type": "code",
   "execution_count": 6,
   "id": "2beac101",
   "metadata": {},
   "outputs": [],
   "source": [
    "# options\n",
    "chrome_options = Options()\n",
    "chrome_options.add_argument(\"--disable-http2\")\n",
    "chrome_options.add_argument(\"--incognito\")\n",
    "chrome_options.add_argument(\"--disable-blink-features=AutomationControlled\")\n",
    "chrome_options.add_argument(\"--ignore-certificate-errors\")\n",
    "chrome_options.add_argument(\"--enable-features=NetworkServiceInProcess\")\n",
    "chrome_options.add_argument(\"--disable-features=NetworkService\")\n",
    "chrome_options.add_argument(\n",
    "    \"user-agent=Mozilla/5.0 (Windows NT 10.0; Win64; x64) AppleWebKit/537.36 (KHTML, like Gecko) Chrome/93.0.4577.63 Safari/537.36\"\n",
    ")\n",
    "\n",
    "driver = webdriver.Chrome(options=chrome_options)\n",
    "driver.maximize_window()\n",
    "\n",
    "# explicit wait\n",
    "wait = WebDriverWait(driver, 5)\n",
    "\n",
    "# accessing the target webpage\n",
    "url = \"https://www.99acres.com/\"\n",
    "driver.get(url)"
   ]
  },
  {
   "cell_type": "code",
   "execution_count": 7,
   "id": "ce018309",
   "metadata": {},
   "outputs": [
    {
     "name": "stdout",
     "output_type": "stream",
     "text": [
      "The webpage \"Property in Kolkata - Real Estate in Kolkata\" did get fully laoded.\n",
      "\n"
     ]
    }
   ],
   "source": [
    "# identify and enter text into search bar\n",
    "try:\n",
    "\tsearch_bar = wait.until(\n",
    "\t\tEC.presence_of_element_located((By.XPATH, '//*[@id=\"keyword2\"]'))\n",
    "\t)\n",
    "except:\n",
    "\tprint(\"Timeout while locating Search Bar.\\n\")\n",
    "else:\n",
    "\tsearch_bar.send_keys(\"Kolkata\")\n",
    "\ttime.sleep(5)\n",
    " \n",
    "# selecting valid option from list\n",
    "try:\n",
    "\tvalid_option = wait.until(\n",
    "\t\tEC.element_to_be_clickable((By.XPATH, '//*[@id=\"0\"]'))\n",
    "\t)\n",
    "except:\n",
    "\tprint(\"Timeout while locating valid search option.\\n\")\n",
    "else:\n",
    "\tvalid_option.click()\n",
    "\ttime.sleep(2)\n",
    "\n",
    "# click on Search button\n",
    "try:\n",
    "\tsearch_button = wait.until(\n",
    "\t\tEC.element_to_be_clickable((By.XPATH, '//*[@id=\"searchform_search_btn\"]'))\n",
    "\t)\n",
    "except:\n",
    "\tprint(\"Timeout while clicking on \\\"Search\\\" button.\\n\")\n",
    "else:\n",
    "\tsearch_button.click()\n",
    "\twait_for_page_to_load(driver, wait)"
   ]
  },
  {
   "cell_type": "code",
   "execution_count": null,
   "id": "148c8f69",
   "metadata": {},
   "outputs": [],
   "source": [
    "import numpy as np\n",
    "# adjust the Budget slider\n",
    "try:\n",
    "\tslider = wait.until(\n",
    "\t\tEC.element_to_be_clickable((By.XPATH, '//*[@id=\"budgetLeftFilter_max_node\"]'))\n",
    "\t)\n",
    "except:\n",
    "\tprint(\"Timeout while clicking on Budget slider circle.\\n\")\n",
    "else:\n",
    "\tactions = ActionChains(driver)\n",
    "\t(\n",
    "\t\tactions\n",
    "\t\t.click_and_hold(slider)\n",
    "\t\t.move_by_offset(-73, 0)\n",
    "\t\t.release()\n",
    "\t\t.perform()\n",
    "\t)\n",
    "\ttime.sleep(2)\n",
    "\n",
    "# filter results to show genuine listings\n",
    "# 1. Verified\n",
    "verified = wait.until(\n",
    "\tEC.element_to_be_clickable((By.XPATH, '/html[1]/body[1]/div[1]/div[1]/div[1]/div[4]/div[3]/div[1]/div[3]/section[1]/div[1]/div[1]/div[1]/div[1]/div[1]/div[1]/div[3]/span[2]'))\n",
    ")\n",
    "verified.click()\n",
    "time.sleep(1)\n",
    "\n",
    "# 2. Ready To Move\n",
    "ready_to_move = wait.until(\n",
    "\tEC.element_to_be_clickable((By.XPATH, '/html[1]/body[1]/div[1]/div[1]/div[1]/div[4]/div[3]/div[1]/div[3]/section[1]/div[1]/div[1]/div[1]/div[1]/div[1]/div[1]/div[3]/span[2]'))\n",
    ")\n",
    "ready_to_move.click()\n",
    "time.sleep(1)\n",
    "\n",
    "\n",
    "# moving to the right side to unhide remaining filters\n",
    "while True:\n",
    "\ttry:\n",
    "\t\tfilter_right_button = wait.until(\n",
    "\t\t\tEC.presence_of_element_located((By.XPATH, \"/html[1]/body[1]/div[1]/div[1]/div[1]/div[4]/div[3]/div[1]/div[3]/section[1]/div[1]/div[1]/div[1]/div[1]/div[2]/i[1]\"))\n",
    "\t\t)\n",
    "\texcept:\n",
    "\t\tprint(\"Timeout because we have uncovered all filters.\\n\")\n",
    "\t\tbreak\n",
    "\telse:\n",
    "\t\tfilter_right_button.click()\n",
    "\t\ttime.sleep(1)\n",
    "  \n",
    "\n",
    "# 3. With Photos\n",
    "with_photos = wait.until(\n",
    "\tEC.element_to_be_clickable((By.XPATH, '/html[1]/body[1]/div[1]/div[1]/div[1]/div[4]/div[3]/div[1]/div[3]/section[1]/div[1]/div[1]/div[1]/div[1]/div[2]/div[1]/div[6]/span[2]'))\n",
    ")\n",
    "with_photos.click()\n",
    "time.sleep(2)\n",
    "\n",
    "# 4. With Videos\n",
    "with_videos = wait.until(\n",
    "\tEC.element_to_be_clickable((By.XPATH, '/html[1]/body[1]/div[1]/div[1]/div[1]/div[4]/div[3]/div[1]/div[3]/section[1]/div[1]/div[1]/div[1]/div[1]/div[2]/div[1]/div[7]/span[2]'))\n",
    ")\n",
    "with_videos.click()\n",
    "time.sleep(4)\n",
    "\n",
    "#navigate pages and extract data\n",
    "data = []\n",
    "page_count = 0\n",
    "while True:\n",
    "    page_count = page_count + 1\n",
    "    try:\n",
    "        next_page_button = driver.find_element(By.XPATH, \"//a[normalize-space()='Next Page >']\")\n",
    "    except:\n",
    "        print(\"Timeout beacuse we have navigated all the {page_count} pages. \\n\")\n",
    "        break\n",
    "    else:\n",
    "        try:\n",
    "           driver.execute_script(\"window.scrollBy(0, arguments[0].getBoundingClientRect().top - 100);\", next_page_button)\n",
    "           time.sleep(2)\n",
    "           \n",
    "           #Scrapping Data\n",
    "           rows = driver.find_elements(By.CSS_SELECTOR, \".tupleNew__contentWrap, .PseudoTupleRevamp__contentWrapAb\")\n",
    "           \n",
    "           for row in rows:\n",
    "                        # property name\n",
    "                        try:\n",
    "                            name = row.find_element(By.CSS_SELECTOR, \".tupleNew__headingNrera, .PseudoTupleRevamp__headNrating\").text\n",
    "                        except:\n",
    "                               name = np.nan\n",
    "                        # property location\n",
    "                        try:\n",
    "                            location = row.find_element(By.CSS_SELECTOR, \".tupleNew__propType, .PseudoTupleRevamp__w400Ml4\").text\n",
    "                        except:\n",
    "                               location = np.nan\n",
    "                    \n",
    "                        # property price\n",
    "                        try:\n",
    "                            price = row.find_element(By.CSS_SELECTOR, \".tupleNew__priceValWrap, .configs__ccl2\").text\n",
    "                        except:\n",
    "                               price = np.nan\n",
    "                        # for some cases bhk and area = tupleNew_area1Type and in some cases bhk's are = configs_ccl1\n",
    "                        # property area and size\n",
    "                        try:\n",
    "    # Try to extract both area and BHK from tupleNew__area1Type (2 spans expected)\n",
    "                            elements = row.find_elements(By.CSS_SELECTOR, \".tupleNew__area1Type\")\n",
    "\n",
    "                            if len(elements) >= 2:\n",
    "                               area, bhk = [ele.text for ele in elements[:2]]\n",
    "                            elif len(elements) == 1:\n",
    "                               area = elements[0].text\n",
    "        # Fallback: try to extract BHK from configs__ccl1\n",
    "                            try:\n",
    "                                bhk = row.find_element(By.CSS_SELECTOR, \".configs__ccl1\").text\n",
    "                            except:\n",
    "                                  bhk = np.nan\n",
    "                            else:\n",
    "        # If neither tupleNew__area1Type found, fallback to configs__ccl1 only\n",
    "                               area = np.nan\n",
    "                               try:\n",
    "                                   bhk = row.find_element(By.CSS_SELECTOR, \".configs__ccl1\").text\n",
    "                               except:\n",
    "                                     bhk = np.nan\n",
    "\n",
    "                        except:\n",
    "    # If entire block fails (row broken or elements missing), fill both as NaN\n",
    "                            area, bhk = [np.nan, np.nan]\n",
    "\n",
    "                        \n",
    "                        property = {\n",
    "\t\t\t\t\t\t\t\"Name\": name,\n",
    "                            \"Location\": location,\n",
    "                            \"Price\" : price,\n",
    "                            \"Area\": area,\n",
    "                            \"BHK\" : bhk\n",
    "\t\t\t\t\t\t}\n",
    "                        data.append(property)\n",
    "           \n",
    "           \n",
    "           wait.until(\n",
    "\t\t\tEC.element_to_be_clickable((By.XPATH, \"//a[normalize-space()='Next Page >']\"))\n",
    "\t\t   ).click()\n",
    "           time.sleep(5)\n",
    "        except:\n",
    "              print(\"TimeOut on clicking on \\\"Next Page\\\".\\n\")\n",
    "              break\n",
    " \n",
    " #Scrapping Data from the last page\n",
    "rows = driver.find_elements(By.CSS_SELECTOR, \".tupleNew__contentWrap, .PseudoTupleRevamp__contentWrapAb\")\n",
    "           \n",
    "for row in rows:\n",
    "                        # property name\n",
    "                        try:\n",
    "                            name = row.find_element(By.CSS_SELECTOR, \".tupleNew__headingNrera, .PseudoTupleRevamp__headNrating\").text\n",
    "                        except:\n",
    "                               name = np.nan\n",
    "                        # property location\n",
    "                        try:\n",
    "                            location = row.find_element(By.CSS_SELECTOR, \".tupleNew__propType, .PseudoTupleRevamp__w400Ml4\").text\n",
    "                        except:\n",
    "                               location = np.nan\n",
    "                    \n",
    "                        # property price\n",
    "                        try:\n",
    "                            price = row.find_element(By.CSS_SELECTOR, \".tupleNew__priceValWrap, .configs__ccl2\").text\n",
    "                        except:\n",
    "                               price = np.nan\n",
    "                        # for some cases bhk and area = tupleNew_area1Type and in some cases bhk's are = configs_ccl1\n",
    "                        # property area and size\n",
    "                        try:\n",
    "    # Try to extract both area and BHK from tupleNew__area1Type (2 spans expected)\n",
    "                            elements = row.find_elements(By.CSS_SELECTOR, \".tupleNew__area1Type\")\n",
    "\n",
    "                            if len(elements) >= 2:\n",
    "                               area, bhk = [ele.text for ele in elements[:2]]\n",
    "                            elif len(elements) == 1:\n",
    "                               area = elements[0].text\n",
    "        # Fallback: try to extract BHK from configs__ccl1\n",
    "                            try:\n",
    "                                bhk = row.find_element(By.CSS_SELECTOR, \".configs__ccl1\").text\n",
    "                            except:\n",
    "                                  bhk = np.nan\n",
    "                            else:\n",
    "        # If neither tupleNew__area1Type found, fallback to configs__ccl1 only\n",
    "                               area = np.nan\n",
    "                               try:\n",
    "                                   bhk = row.find_element(By.CSS_SELECTOR, \".configs__ccl1\").text\n",
    "                               except:\n",
    "                                     bhk = np.nan\n",
    "\n",
    "                        except:\n",
    "    # If entire block fails (row broken or elements missing), fill both as NaN\n",
    "                            area, bhk = [np.nan, np.nan]\n",
    "\n",
    "                        \n",
    "                        property = {\n",
    "\t\t\t\t\t\t\t\"Name\": name,\n",
    "                            \"Location\": location,\n",
    "                            \"Price\" : price,\n",
    "                            \"Area\": area,\n",
    "                            \"BHK\" : bhk\n",
    "\t\t\t\t\t\t}\n",
    "                        data.append(property)\n",
    "\n",
    "time.sleep(3)\n",
    "driver.quit()"
   ]
  },
  {
   "cell_type": "code",
   "execution_count": null,
   "id": "467c9c52",
   "metadata": {},
   "outputs": [],
   "source": [
    "#len(data)"
   ]
  },
  {
   "cell_type": "code",
   "execution_count": null,
   "id": "18b369f6",
   "metadata": {},
   "outputs": [],
   "source": [
    "#print(page_count)"
   ]
  },
  {
   "cell_type": "code",
   "execution_count": null,
   "id": "467d5230",
   "metadata": {},
   "outputs": [],
   "source": [
    "df_properties = (\n",
    "    pd\n",
    "    .DataFrame(data).drop_duplicates()\n",
    "    .apply(lambda col: col.str.strip().str.lower() if col.dtype == \"object\" else col)\n",
    "    .assign(\n",
    "    is_starred=lambda df_: df_.Name.str.contains(\"\\n\").astype(int),\n",
    "    Name=lambda df_: (\n",
    "        df_\n",
    "        .Name\n",
    "        .str.replace(\"\\n[0-9.]+\", \"\", regex=True)\n",
    "        .str.strip()\n",
    "    ),\n",
    "    #location\n",
    "    Location = lambda df_: (\n",
    "    df_\n",
    "    .Location\n",
    "    .str.split(\" in \").str[-1].str.strip().str.replace(\", \", \",\").str.replace(r\"^in\\s+\", \"\", regex=True)\n",
    "),\n",
    "#price\n",
    "Price = lambda df_: (\n",
    "    df_\n",
    "    .Price\n",
    "    .str.replace(\"₹\", \"\", regex=False)\n",
    "    .str.replace(\"p\", \"\", regex=False)\n",
    "    .apply(\n",
    "    lambda val: 0.0 if \"request\" in val.lower()\n",
    "    else (\n",
    "        # If range exists, average both ends\n",
    "        sum([\n",
    "            float(\n",
    "                v.replace(\"lac\", \"\")\n",
    "                 .replace(\"l\", \"\")\n",
    "                 .replace(\"cr\", \"\")\n",
    "                 .replace(\"₹\", \"\")\n",
    "                 .strip()\n",
    "            )\n",
    "            for v in val.lower().split(\"-\")\n",
    "        ]) / 2\n",
    "        if \"-\" in val else float(\n",
    "            val.lower()\n",
    "               .replace(\"lac\", \"\")\n",
    "               .replace(\"l\", \"\")\n",
    "               .replace(\"cr\", \"\")\n",
    "               .replace(\"₹\", \"\")\n",
    "               .strip()\n",
    "        )\n",
    "    ) * (\n",
    "        1 if any(x in val.lower() for x in [\"lac\", \"l\"]) else 100\n",
    "    )\n",
    ")\n",
    "\n",
    "\n",
    "\n",
    "),\n",
    "#Area\n",
    "Area = lambda df_: (\n",
    "    df_\n",
    "    .Area\n",
    "    .str.replace(\"sqft\", \"\", regex=False)\n",
    "    .str.strip()\n",
    "    .astype(float)\n",
    "    # repalced Nan with median of Area\n",
    "    .fillna(df_.Area.str.replace(\"sqft\", \"\", regex=False).str.strip().astype(float).median())\n",
    "    .pipe(lambda ser: pd.to_numeric(ser))\n",
    "    \n",
    "    \n",
    "),\n",
    "#BHK\n",
    "BHK = lambda df_: (\n",
    "    df_\n",
    "    .BHK\n",
    "    .str.extract(r\"(\\d+)\\s*bhk\", expand=False)  # extract number\n",
    "    .fillna(0)                                   # fill NaNs as 0\n",
    "    .astype(int)                                 # convert to integer\n",
    ")\n",
    "\n",
    "\n",
    "    \n",
    "\n",
    "    \n",
    ").rename(columns={\"Price\": \"Price_lakhs\",\n",
    "                  \"Area\" : \"Area_sqft\"})\n",
    " .to_excel(\"Kolkata_Properties-99acres.xlsx\", index=False)\n",
    "\n",
    "\n",
    ")\n",
    "\n",
    "df_properties\n"
   ]
  },
  {
   "cell_type": "markdown",
   "id": "c53c2e56",
   "metadata": {},
   "source": [
    "### Data Cleaning"
   ]
  },
  {
   "cell_type": "code",
   "execution_count": null,
   "id": "ece8f54d",
   "metadata": {},
   "outputs": [
    {
     "data": {
      "text/plain": [
       "array(['shanti kunj - hindmotor', 'akashlina apartment - konnagar',\n",
       "       'merlin rise', 'f residences merlin', 'orbit dakshini',\n",
       "       'godrej blue', 'merlin niyasa', 'godrej prakriti\\n4.2',\n",
       "       'siddha suburbia\\n3.9', 'crown at aquaview', 'vindhya primrose',\n",
       "       'ora heights', 'merlin serenia', 'optima',\n",
       "       'shriram grand city\\n3.7', 'purti tatsam', 'cellesta',\n",
       "       'deeshari palm villa', 'kamalika', 'srijan spacia',\n",
       "       'merlin skygaze', 'merlin avana', 'ganguly 4sight superia',\n",
       "       'swapnabhumi township', 'gokul vista', 'siddha serena',\n",
       "       'quintessa', 'ust heights', 'urban lakes phase 2',\n",
       "       'chitrakut heights phase 2', 'dtc sojon', 'merlin isle',\n",
       "       'dtc palm grove', 'ps sansara', 'vinayak amara', 'dtc good earth',\n",
       "       'morya phase 2', 'natural city madhyamgram', 'urban vista',\n",
       "       'srijan town square', 'shriram sunshine 2', 'the avalon heights',\n",
       "       'rishi ventoso phase 2', 'shriram symphony', 'shree miraya',\n",
       "       'vayu', 'kappa gamma', 'ps navyom', 'rohra galaxy', 'amantran',\n",
       "       'airport sky city', 'dtc capital city', 'liffe fest by realmark',\n",
       "       'bg bally sky high', 'vaanya', 'solaris city serampore', 'anaaya',\n",
       "       'adross radharani housing complex', 'merlin oikyo',\n",
       "       'sureka sunrise aura', 'etha su casa imperial', 'tattvam',\n",
       "       'emami aamod', 'prasad rare earth\\n3.5', 'mirania evara',\n",
       "       'sanctuary', 'mokshaah', 'tirath premlata', 'ps jade grove',\n",
       "       'siddha waterfront\\n3.8', 'elevate godrej se7en', 'urbana',\n",
       "       'joyville western height', 'prarthana', 'westroad canvas',\n",
       "       'whispering winds', 'forum estates aranya innovative township',\n",
       "       'orbit tarang', 'swayam city\\n3.3', 'bhasa eco village',\n",
       "       'alcove new kolkata sangam\\n3.9', 'purti the varanda',\n",
       "       'natural aqua waves', 'mani casa', 'ps one 10\\n4.2',\n",
       "       'merlin lakescape', 'sattvik gateway',\n",
       "       'bengal peerless avidipta phase 2\\n4.0', 'silver oak',\n",
       "       'siddha eden lakeville\\n3.7', 'ascon era', 'navya', 'jeevika',\n",
       "       'skdj nidhara', 'the eco palace', 'silver gardenia',\n",
       "       'prudent antara', 'dtc skyler', 'sugam niavara', 'siddha sky blu',\n",
       "       'pd kasturi heights', 'meraki'], dtype=object)"
      ]
     },
     "execution_count": 62,
     "metadata": {},
     "output_type": "execute_result"
    }
   ],
   "source": [
    "df_properties.Name.unique()"
   ]
  },
  {
   "cell_type": "code",
   "execution_count": null,
   "id": "353e2c55",
   "metadata": {},
   "outputs": [
    {
     "data": {
      "text/plain": [
       "array(['godrej prakriti\\n4.2', 'siddha suburbia\\n3.9',\n",
       "       'shriram grand city\\n3.7', 'prasad rare earth\\n3.5',\n",
       "       'siddha waterfront\\n3.8', 'swayam city\\n3.3',\n",
       "       'alcove new kolkata sangam\\n3.9', 'ps one 10\\n4.2',\n",
       "       'bengal peerless avidipta phase 2\\n4.0',\n",
       "       'siddha eden lakeville\\n3.7'], dtype=object)"
      ]
     },
     "execution_count": 55,
     "metadata": {},
     "output_type": "execute_result"
    }
   ],
   "source": [
    "# to view which properties have \\n in there name \n",
    "df_properties.loc[lambda df_: df_.Name.str.contains(\"\\n\")].Name.unique()\n"
   ]
  },
  {
   "cell_type": "code",
   "execution_count": null,
   "id": "6ff66628",
   "metadata": {},
   "outputs": [
    {
     "data": {
      "text/plain": [
       "'2 bhk flat in hindmotor, uttarpara'"
      ]
     },
     "execution_count": 64,
     "metadata": {},
     "output_type": "execute_result"
    }
   ],
   "source": [
    "df_properties.Location.iloc[0]"
   ]
  },
  {
   "cell_type": "code",
   "execution_count": null,
   "id": "9f2e2a22",
   "metadata": {},
   "outputs": [
    {
     "data": {
      "text/plain": [
       "0      2 bhk flat in hindmotor, uttarpara\n",
       "1         2 bhk flat in konnagar, hooghly\n",
       "2                    in rajarhat, kolkata\n",
       "3                    in rajarhat, kolkata\n",
       "4                  in bara nagar, kolkata\n",
       "                      ...                \n",
       "97                 in joka, kolkata south\n",
       "98                    in entally, kolkata\n",
       "99            in em bypass, kolkata south\n",
       "100               in madhyamgram, kolkata\n",
       "101                in joka, kolkata south\n",
       "Name: Location, Length: 102, dtype: object"
      ]
     },
     "execution_count": 68,
     "metadata": {},
     "output_type": "execute_result"
    }
   ],
   "source": [
    "df_properties.Location"
   ]
  },
  {
   "cell_type": "code",
   "execution_count": null,
   "id": "0c6e156a",
   "metadata": {},
   "outputs": [
    {
     "data": {
      "text/plain": [
       "['2 bhk flat', 'hindmotor, uttarpara']"
      ]
     },
     "execution_count": 77,
     "metadata": {},
     "output_type": "execute_result"
    }
   ],
   "source": [
    "df_properties.Location.str.split(\" in \").iloc[0]\n"
   ]
  },
  {
   "cell_type": "code",
   "execution_count": null,
   "id": "e6db17fe",
   "metadata": {},
   "outputs": [
    {
     "data": {
      "text/plain": [
       "'hindmotor,uttarpara'"
      ]
     },
     "execution_count": 84,
     "metadata": {},
     "output_type": "execute_result"
    }
   ],
   "source": [
    "df_properties.Location.str.split(\" in \").str[-1].str.strip().str.replace(\", \", \",\").iloc[0]\n"
   ]
  },
  {
   "cell_type": "code",
   "execution_count": null,
   "id": "e1637af9",
   "metadata": {},
   "outputs": [
    {
     "data": {
      "text/plain": [
       "array(['hindmotor,uttarpara', 'konnagar,hooghly', 'rajarhat,kolkata',\n",
       "       'bara nagar,kolkata', 'new alipore,kolkata', 'anandapur,em bypass',\n",
       "       'sodepur,kolkata north', 'baruipur,kolkata south',\n",
       "       'new town,kolkata', 'narendrapur,kolkata', 'tiljala,em bypass',\n",
       "       'bt road,kolkata', 'uttarpara,hooghly', 'lake town,kolkata',\n",
       "       'southern bypass,kolkata', 'chandannagar,hooghly',\n",
       "       'madhyamgram,kolkata', 'tollygunge,kolkata',\n",
       "       'nager bazar,jessore road', 'kankurgachi,kolkata',\n",
       "       'diamond harbour road,kolkata south', 'joka,kolkata south',\n",
       "       'picnic garden,em bypass', 'golabari,bandhaghat,howrah',\n",
       "       'garia,kolkata', 'kaikhali,vip road',\n",
       "       'belgharia expressway,kolkata', 'rajpur,southern bypass',\n",
       "       'bally,howrah', 'serampore,hooghly', 'beleghata,kolkata',\n",
       "       'manicktala,kolkata north', 'em bypass,kolkata south',\n",
       "       'bangur,lake town', 'entally,kolkata', 'khardah,bt road',\n",
       "       'santragachi,howrah', 'shibpur,howrah', 'barasat,kolkata north',\n",
       "       'behala,kolkata', 'mukundapur,kolkata', 'chinar park,kolkata',\n",
       "       'new town action area 2d,kolkata'], dtype=object)"
      ]
     },
     "execution_count": 98,
     "metadata": {},
     "output_type": "execute_result"
    }
   ],
   "source": [
    "df_properties.Location.unique()"
   ]
  },
  {
   "cell_type": "code",
   "execution_count": null,
   "id": "0432f587",
   "metadata": {},
   "outputs": [
    {
     "data": {
      "text/plain": [
       "array(['₹', 'p'], dtype=object)"
      ]
     },
     "execution_count": 101,
     "metadata": {},
     "output_type": "execute_result"
    }
   ],
   "source": [
    "df_properties['Price'].str[0].unique()"
   ]
  },
  {
   "cell_type": "code",
   "execution_count": null,
   "id": "d30aa807",
   "metadata": {},
   "outputs": [
    {
     "data": {
      "text/plain": [
       "array(['lac', 'l', 'cr', 'request'], dtype=object)"
      ]
     },
     "execution_count": 103,
     "metadata": {},
     "output_type": "execute_result"
    }
   ],
   "source": [
    "df_properties['Price'].str.split(\" \").str[-1].unique()"
   ]
  },
  {
   "cell_type": "code",
   "execution_count": null,
   "id": "408e4882",
   "metadata": {},
   "outputs": [
    {
     "data": {
      "text/plain": [
       "dtype('float64')"
      ]
     },
     "execution_count": 110,
     "metadata": {},
     "output_type": "execute_result"
    }
   ],
   "source": [
    "df_properties['Price'].dtype"
   ]
  },
  {
   "cell_type": "code",
   "execution_count": null,
   "id": "77b5983d",
   "metadata": {},
   "outputs": [
    {
     "data": {
      "text/plain": [
       "array([True, nan], dtype=object)"
      ]
     },
     "execution_count": 118,
     "metadata": {},
     "output_type": "execute_result"
    }
   ],
   "source": [
    "df_properties['Area'].str.contains('sqft').unique()"
   ]
  },
  {
   "cell_type": "code",
   "execution_count": null,
   "id": "9b55e72e",
   "metadata": {},
   "outputs": [
    {
     "data": {
      "text/plain": [
       "array([nan, '2 bhk apartment', '3 bhk apartment', '1 bhk apartment',\n",
       "       '3 bhk villa', '4 bhk apartment', '4 bhk villa', 'land',\n",
       "       '5 bhk apartment'], dtype=object)"
      ]
     },
     "execution_count": 131,
     "metadata": {},
     "output_type": "execute_result"
    }
   ],
   "source": [
    "df_properties['BHK'].unique()"
   ]
  }
 ],
 "metadata": {
  "kernelspec": {
   "display_name": "99-acres",
   "language": "python",
   "name": "python3"
  },
  "language_info": {
   "codemirror_mode": {
    "name": "ipython",
    "version": 3
   },
   "file_extension": ".py",
   "mimetype": "text/x-python",
   "name": "python",
   "nbconvert_exporter": "python",
   "pygments_lexer": "ipython3",
   "version": "3.12.11"
  }
 },
 "nbformat": 4,
 "nbformat_minor": 5
}
